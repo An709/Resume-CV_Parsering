{
 "cells": [
  {
   "cell_type": "code",
   "execution_count": 5,
   "metadata": {},
   "outputs": [],
   "source": [
    "import resume_parser\n",
    "import docx\n",
    "import pdfminer\n",
    "#import pdf2text"
   ]
  },
  {
   "cell_type": "code",
   "execution_count": 6,
   "metadata": {},
   "outputs": [],
   "source": [
    "from resume_parser import resumeparse"
   ]
  },
  {
   "cell_type": "code",
   "execution_count": 7,
   "metadata": {},
   "outputs": [],
   "source": [
    "data = resumeparse.read_file(\"resumes\\Krishana.docx\")"
   ]
  },
  {
   "cell_type": "code",
   "execution_count": 8,
   "metadata": {},
   "outputs": [
    {
     "name": "stdout",
     "output_type": "stream",
     "text": [
      "{'email': 'Email:pusukurisaikrishna@gmail.com.', 'phone': '+917569666364', 'name': 'Sai Krishana', 'total_exp': 0, 'university': [], 'designition': ['research analyst', 'long term'], 'degree': [], 'skills': ['· Strong in MS office skills and formulas.', '· Templates.', 'personal COmpetencies', '· Ability to perform effectively and efficiently in team and individually.', '· Hard working and committed to excellence.', 'Personal details', 'Name : Sai Krishna Pusukuri', 'Father’s Name : Laxmaiah Pusukuri.', 'Date of birth : 16-04-1993 Known : English', ' Telugu and Hindhi.', 'Address : H.no 1-77', ' Yadav Colony Narketpally (V&M).', 'Nalgonda-Dist', ' Telangana-508254.', 'Date:', '[bookmark: _GoBack]Place:', '(Sai Krishna Pusukuri)', 'Note: I am ready to join immediately.']}\n"
     ]
    }
   ],
   "source": [
    "#print(data)"
   ]
  },
  {
   "cell_type": "code",
   "execution_count": null,
   "metadata": {},
   "outputs": [],
   "source": [
    "#pip install resume-parser\n",
    "# spaCy\n",
    "python -m spacy download en_core_web_sm\n",
    "\n",
    "# nltk\n",
    "python -m nltk.downloader stopwords\n",
    "python -m nltk.downloader punkt\n",
    "python -m nltk.downloader averaged_perceptron_tagger\n",
    "python -m nltk.downloader universal_tagset\n",
    "python -m nltk.downloader wordnet\n",
    "python -m nltk.downloader brown\n",
    "python -m nltk.downloader maxent_ne_chunker"
   ]
  },
  {
   "cell_type": "code",
   "execution_count": null,
   "metadata": {},
   "outputs": [],
   "source": []
  }
 ],
 "metadata": {
  "kernelspec": {
   "display_name": "Python 3",
   "language": "python",
   "name": "python3"
  },
  "language_info": {
   "codemirror_mode": {
    "name": "ipython",
    "version": 3
   },
   "file_extension": ".py",
   "mimetype": "text/x-python",
   "name": "python",
   "nbconvert_exporter": "python",
   "pygments_lexer": "ipython3",
   "version": "3.8.3"
  }
 },
 "nbformat": 4,
 "nbformat_minor": 4
}
